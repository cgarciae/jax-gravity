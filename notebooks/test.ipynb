{
 "cells": [
  {
   "cell_type": "code",
   "execution_count": 1,
   "metadata": {},
   "outputs": [],
   "source": [
    "import jax.numpy as jnp\n",
    "import jax\n",
    "import typing as tp\n",
    "import utils\n",
    "\n",
    "jax.config.update(\"jax_enable_x64\", True)\n",
    "jax.config.update(\"jax_debug_nans\", True)"
   ]
  },
  {
   "cell_type": "code",
   "execution_count": 2,
   "metadata": {},
   "outputs": [],
   "source": [
    "class Body(tp.NamedTuple):\n",
    "    x: jax.Array\n",
    "    v: jax.Array\n",
    "    m: jax.Array\n",
    "\n",
    "\n",
    "# RNG keys\n",
    "seed = jax.random.PRNGKey(42)\n",
    "kx, kv, km = jax.random.split(seed, 3)\n",
    "\n",
    "# Simulation Parameters\n",
    "N_BODIES = 3\n",
    "T0 = 0.0\n",
    "months = 15\n",
    "Tf = 3600.0 * 30.5 * months  # in seconds\n",
    "DT = 1.0  # 1 second\n",
    "T = jnp.arange(T0, Tf, DT)\n",
    "G = jnp.array(6.67408e-11, dtype=jnp.float32)\n",
    "\n",
    "# Initial Values\n",
    "X0 = jax.random.uniform(kx, shape=(N_BODIES, 3), minval=-748e7, maxval=748e7)\n",
    "V0 = jax.random.uniform(kv, shape=(N_BODIES, 3), minval=-1e5, maxval=1e5)\n",
    "M = jax.random.uniform(km, shape=(N_BODIES, 1), minval=5.972e27, maxval=1.898e30)\n",
    "M = M[:, 0]\n",
    "# ignore z-axis\n",
    "X0 = X0.at[:, 2].set(0.0)\n",
    "V0 = V0.at[:, 2].set(0.0)\n",
    "\n",
    "# system state\n",
    "Y: Body = Body(X0, V0, M)"
   ]
  },
  {
   "cell_type": "code",
   "execution_count": 3,
   "metadata": {},
   "outputs": [],
   "source": [
    "def gravitational_force(a: Body, b: Body) -> jax.Array:\n",
    "    radius3 = utils.safe_norm(b.x, a.x) ** 3\n",
    "    f = G * b.m * (b.x - a.x) / radius3\n",
    "    # fill nan values with 0s\n",
    "    return jnp.nan_to_num(f)\n",
    "\n",
    "\n",
    "def gravitational_energy(a: Body, b: Body) -> jax.Array:\n",
    "    r = utils.safe_norm(a.x, b.x)\n",
    "    energy = -G * b.m / r\n",
    "    energy = jnp.where(jnp.allclose(a.x, b.x), 0.0, energy)\n",
    "    return energy"
   ]
  },
  {
   "cell_type": "code",
   "execution_count": 4,
   "metadata": {},
   "outputs": [
    {
     "name": "stdout",
     "output_type": "stream",
     "text": [
      "a=Body(x=Array([[-4.59295233e+08,  4.53854906e+09,  0.00000000e+00],\n",
      "       [-5.85289399e+09,  3.37854154e+09,  0.00000000e+00],\n",
      "       [ 5.82123955e+09,  4.86107921e+09,  0.00000000e+00]],      dtype=float64), v=Array([[ 81284.96237573, -82094.51176463,      0.        ],\n",
      "       [-29689.1169026 ,  44408.16038729,      0.        ],\n",
      "       [-67493.46596226,  36168.10304887,      0.        ]],      dtype=float64), m=Array([1.14009763e+30, 1.54176942e+30, 1.12464207e+30], dtype=float64))\n",
      "f1=Array([[-1.4098114 , -0.61351644,  0.        ],\n",
      "       [ 2.98179572,  0.59393946,  0.        ],\n",
      "       [-2.65855148, -0.19228257,  0.        ]], dtype=float64)\n",
      "f2=Array([[-1.4098114 , -0.61351644,  0.        ],\n",
      "       [ 2.98179572,  0.59393946,  0.        ],\n",
      "       [-2.65855148, -0.19228257,  0.        ]], dtype=float64)\n"
     ]
    }
   ],
   "source": [
    "a = Body(X0, V0, M)\n",
    "\n",
    "f1 = utils.map_product(gravitational_force)(a, a).sum(axis=1)\n",
    "f2 = -jax.grad(lambda a, b: utils.map_product(gravitational_energy)(a, b).sum())(a, a).x\n",
    "\n",
    "print(f\"{a=}\")\n",
    "print(f\"{f1=}\")\n",
    "print(f\"{f2=}\")"
   ]
  },
  {
   "cell_type": "code",
   "execution_count": null,
   "metadata": {},
   "outputs": [],
   "source": []
  },
  {
   "cell_type": "code",
   "execution_count": 5,
   "metadata": {},
   "outputs": [
    {
     "data": {
      "text/plain": [
       "(3, 3)"
      ]
     },
     "execution_count": 5,
     "metadata": {},
     "output_type": "execute_result"
    }
   ],
   "source": [
    "f1.shape"
   ]
  },
  {
   "cell_type": "code",
   "execution_count": 6,
   "metadata": {},
   "outputs": [
    {
     "data": {
      "text/plain": [
       "(3, 3)"
      ]
     },
     "execution_count": 6,
     "metadata": {},
     "output_type": "execute_result"
    }
   ],
   "source": [
    "f2.shape"
   ]
  },
  {
   "cell_type": "code",
   "execution_count": null,
   "metadata": {},
   "outputs": [],
   "source": []
  }
 ],
 "metadata": {
  "kernelspec": {
   "display_name": "Python 3 (ipykernel)",
   "language": "python",
   "name": "python3"
  },
  "language_info": {
   "codemirror_mode": {
    "name": "ipython",
    "version": 3
   },
   "file_extension": ".py",
   "mimetype": "text/x-python",
   "name": "python",
   "nbconvert_exporter": "python",
   "pygments_lexer": "ipython3",
   "version": "3.10.12"
  }
 },
 "nbformat": 4,
 "nbformat_minor": 4
}
